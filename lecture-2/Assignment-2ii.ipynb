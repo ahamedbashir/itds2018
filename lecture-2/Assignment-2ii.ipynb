{
 "cells": [
  {
   "cell_type": "markdown",
   "metadata": {
    "deletable": false,
    "editable": false,
    "nbgrader": {
     "checksum": "41b3f333d08ee9cabc2069df2ff38bac",
     "grade": false,
     "grade_id": "cell-70d33f18eae8a3a0",
     "locked": true,
     "schema_version": 1,
     "solution": false
    }
   },
   "source": [
    "# Assignment 2, Part 2 Details\n",
    "\n",
    "#### Note: this is the second part of Assignment 2. Students are also required to complete the DataCamp course *Cleaning Data in Python* to receive full credit for Assignment 2.\n",
    "\n",
    "For this short assignment, you'll be working to collect film permit data from NYC Open Data. Documentation for the API can be found at [this link](https://data.cityofnewyork.us/City-Government/Film-Permits/tg4x-b46p). You should be able to complete all of the tasks outlined in this notebook without registering for an API key, but if not, you'll need to register for one and add it to your `params`. \n",
    "\n",
    "### Make sure to add your name to the `NAME` variable below before submitting your assignment."
   ]
  },
  {
   "cell_type": "code",
   "execution_count": null,
   "metadata": {
    "deletable": false,
    "editable": false,
    "nbgrader": {
     "checksum": "cc1b3a30199e3c4ef5d795c6a4d85662",
     "grade": false,
     "grade_id": "cell-2de9c43335f6fd4f",
     "locked": true,
     "schema_version": 1,
     "solution": false
    }
   },
   "outputs": [],
   "source": [
    "import pandas as pd\n",
    "import requests\n",
    "\n",
    "NAME = \"Firstname Lastname\"\n"
   ]
  },
  {
   "cell_type": "markdown",
   "metadata": {
    "deletable": false,
    "editable": false,
    "nbgrader": {
     "checksum": "85daafe94515b1b745da9de66b9e7c42",
     "grade": false,
     "grade_id": "cell-26f5a7ca0c59f91e",
     "locked": true,
     "schema_version": 1,
     "solution": false
    }
   },
   "source": [
    "#### Problem 1\n",
    "\n",
    "Assign a string variable `url` with the web address for the base endpoint of the Film Permit Data, the documentation for which can be found [here](https://dev.socrata.com/foundry/data.cityofnewyork.us/6aka-uima). This is the web address you will request *without* adding any parameters."
   ]
  },
  {
   "cell_type": "code",
   "execution_count": null,
   "metadata": {
    "deletable": false,
    "nbgrader": {
     "checksum": "a57123923e12e6ed9495077f6e220237",
     "grade": false,
     "grade_id": "cell-f2526c4b64a9a2dc",
     "locked": false,
     "schema_version": 1,
     "solution": true
    }
   },
   "outputs": [],
   "source": [
    "#url = 'answer'\n",
    "\n",
    "# YOUR CODE HERE\n",
    "raise NotImplementedError()\n",
    "\n",
    "url"
   ]
  },
  {
   "cell_type": "markdown",
   "metadata": {
    "deletable": false,
    "editable": false,
    "nbgrader": {
     "checksum": "3cecb89e4c293d76be63484d098f20d5",
     "grade": false,
     "grade_id": "cell-4b7c013466931eb5",
     "locked": true,
     "schema_version": 1,
     "solution": false
    }
   },
   "source": [
    "#### Problem 2\n",
    "\n",
    "Next, we'll want to create a a dictionary of values `params` to feed in the parameters for our API query. Let's create a set of parameters that will search for all `'Television'` permits in the zip code 10036, that will limit our results to 5000 permits. Again, you'll need to make use of the [api documentation](https://dev.socrata.com/foundry/data.cityofnewyork.us/6aka-uima)."
   ]
  },
  {
   "cell_type": "code",
   "execution_count": null,
   "metadata": {
    "deletable": false,
    "nbgrader": {
     "checksum": "86c1a15ea781464c7290957c66f56b2b",
     "grade": false,
     "grade_id": "cell-ceb9067e46675b17",
     "locked": false,
     "schema_version": 1,
     "solution": true
    }
   },
   "outputs": [],
   "source": [
    "# Hint: the limit parameter follows a diffent convention than the table fields\n",
    "\n",
    "#params = {'field_name1' : 'Television',\n",
    "#          'field_name2' : '10036', \n",
    "#          'limit_parameter' : 5000}\n",
    "\n",
    "# YOUR CODE HERE\n",
    "raise NotImplementedError()\n",
    "\n",
    "params"
   ]
  },
  {
   "cell_type": "markdown",
   "metadata": {
    "deletable": false,
    "editable": false,
    "nbgrader": {
     "checksum": "418bcb0f1300a3e8ca55ecb6dbf365aa",
     "grade": false,
     "grade_id": "cell-540eb17e1e382bb0",
     "locked": true,
     "schema_version": 1,
     "solution": false
    }
   },
   "source": [
    "#### Problem 3\n",
    "\n",
    "Next, use the `url` and `params` variables, along with the `requests` module to pull the data we're interested in from the API. Create a string variable `reponse_url` to equal the full url for the api call (using the `.url()`) and `response_json` to equal the full json contents of the response  for the api call (using the "
   ]
  },
  {
   "cell_type": "code",
   "execution_count": null,
   "metadata": {
    "deletable": false,
    "nbgrader": {
     "checksum": "fa0faac9d4e917a71cc7a321762db4a1",
     "grade": false,
     "grade_id": "cell-cfa9688ea81d0d2f",
     "locked": false,
     "schema_version": 1,
     "solution": true
    }
   },
   "outputs": [],
   "source": [
    "# Hint: the strings listed below are guides to the correct answers (which are not necessarily strings)\n",
    "\n",
    "#response = 'requests.XXX(XXX=XXX, XXX=XXX)'\n",
    "\n",
    "#response_url = 'response.XXX'\n",
    "#response_json = 'response.XXX()'\n",
    "\n",
    "# YOUR CODE HERE\n",
    "raise NotImplementedError()\n",
    "\n",
    "response_url"
   ]
  },
  {
   "cell_type": "markdown",
   "metadata": {},
   "source": [
    "#### Problem 4\n",
    "\n",
    "Transform the response into pandas DataFrame. Set `shape_result` equal to a tuple with the shape of the resulting DataFrame. "
   ]
  },
  {
   "cell_type": "code",
   "execution_count": null,
   "metadata": {
    "deletable": false,
    "nbgrader": {
     "checksum": "0af1e4e75ebdc481d16ee730d466e1b4",
     "grade": false,
     "grade_id": "cell-24f65ba7e0d9ef5f",
     "locked": false,
     "schema_version": 1,
     "solution": true
    }
   },
   "outputs": [],
   "source": [
    "# Hint: the strings listed below are guides to the correct answers (which are not necessarily strings)\n",
    "\n",
    "#df = 'pd.XXXX'\n",
    "#shape_result = 'df.XXXX'\n",
    "\n",
    "# YOUR CODE HERE\n",
    "raise NotImplementedError()\n",
    "\n",
    "shape_result"
   ]
  },
  {
   "cell_type": "markdown",
   "metadata": {},
   "source": [
    "#### Problem 5\n",
    "\n",
    "Now that the DataFrame is loaded, use the `.value_counts()` method to find the top sub-categories for television permits. Set `top_subcategory_counts` equal to the 5 top value counts for television permits, and `top_subcategory` equal to the name of the top sub-category for television permits."
   ]
  },
  {
   "cell_type": "code",
   "execution_count": null,
   "metadata": {
    "deletable": false,
    "nbgrader": {
     "checksum": "fe75359944c30e9faa101788b5219541",
     "grade": false,
     "grade_id": "cell-444fbe2564a7594b",
     "locked": false,
     "schema_version": 1,
     "solution": true
    }
   },
   "outputs": [],
   "source": [
    "# Hint: the strings listed below are guides to the correct answers (which are not necessarily strings)\n",
    "\n",
    "#top_subcategory_counts = 'df.XXX.XXX().XXX(X)'\n",
    "#top_subcategory = 'top_subcategory_counts.XXX[0]'\n",
    "\n",
    "# YOUR CODE HERE\n",
    "raise NotImplementedError()\n",
    "\n",
    "top_subcategory"
   ]
  },
  {
   "cell_type": "markdown",
   "metadata": {
    "deletable": false,
    "editable": false,
    "nbgrader": {
     "checksum": "1f28501ba1c07cd18d4b8cf4ad4593bd",
     "grade": false,
     "grade_id": "cell-d9fb864aaf3c4ab5",
     "locked": true,
     "schema_version": 1,
     "solution": false
    }
   },
   "source": [
    "#### Problem 6\n",
    "\n",
    "Finally, in the cell below, briefly describe one interesting statistic or data point you can calculate in the data, including the numerical value of the statistic, a short description of what it means, and a short explanation of why you find it interesting."
   ]
  },
  {
   "cell_type": "markdown",
   "metadata": {
    "deletable": false,
    "nbgrader": {
     "checksum": "ce5bbc424ecaca286c35f36ab8dbb887",
     "grade": true,
     "grade_id": "cell-3c61e09508d0ed4e",
     "locked": false,
     "points": 0,
     "schema_version": 1,
     "solution": true
    }
   },
   "source": [
    "YOUR ANSWER HERE"
   ]
  },
  {
   "cell_type": "code",
   "execution_count": null,
   "metadata": {},
   "outputs": [],
   "source": []
  }
 ],
 "metadata": {
  "kernelspec": {
   "display_name": "Python [default]",
   "language": "python",
   "name": "python3"
  },
  "language_info": {
   "codemirror_mode": {
    "name": "ipython",
    "version": 3
   },
   "file_extension": ".py",
   "mimetype": "text/x-python",
   "name": "python",
   "nbconvert_exporter": "python",
   "pygments_lexer": "ipython3",
   "version": "3.6.2"
  }
 },
 "nbformat": 4,
 "nbformat_minor": 2
}
